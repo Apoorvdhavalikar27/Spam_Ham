{
  "nbformat": 4,
  "nbformat_minor": 0,
  "metadata": {
    "accelerator": "GPU",
    "colab": {
      "name": "Spam_Ham_Classifier.ipynb",
      "provenance": [],
      "collapsed_sections": [],
      "include_colab_link": true
    },
    "kernelspec": {
      "display_name": "Python 3",
      "language": "python",
      "name": "python3"
    },
    "language_info": {
      "codemirror_mode": {
        "name": "ipython",
        "version": 3
      },
      "file_extension": ".py",
      "mimetype": "text/x-python",
      "name": "python",
      "nbconvert_exporter": "python",
      "pygments_lexer": "ipython3",
      "version": "3.8.3"
    }
  },
  "cells": [
    {
      "cell_type": "markdown",
      "metadata": {
        "id": "view-in-github",
        "colab_type": "text"
      },
      "source": [
        "<a href=\"https://colab.research.google.com/github/Apoorvdhavalikar27/Spam_Ham/blob/main/Spam_Ham_Classifier.ipynb\" target=\"_parent\"><img src=\"https://colab.research.google.com/assets/colab-badge.svg\" alt=\"Open In Colab\"/></a>"
      ]
    },
    {
      "cell_type": "code",
      "metadata": {
        "id": "pfjcN6lejHUy"
      },
      "source": [
        "import numpy as np # linear algebra\n",
        "import pandas as pd # data processing, CSV file I/O (e.g. pd.read_csv)\n",
        "import matplotlib.pyplot as plt"
      ],
      "execution_count": 9,
      "outputs": []
    },
    {
      "cell_type": "code",
      "metadata": {
        "id": "ikRcv2nBjHU1"
      },
      "source": [
        "dataset = pd.read_csv(\"emails.csv\")"
      ],
      "execution_count": 10,
      "outputs": []
    },
    {
      "cell_type": "code",
      "metadata": {
        "id": "8wZEz16xjHU2",
        "colab": {
          "base_uri": "https://localhost:8080/",
          "height": 417
        },
        "outputId": "1efc0a4a-32c9-4ea4-c03e-d39731ff2097"
      },
      "source": [
        "dataset"
      ],
      "execution_count": 11,
      "outputs": [
        {
          "output_type": "execute_result",
          "data": {
            "text/html": [
              "<div>\n",
              "<style scoped>\n",
              "    .dataframe tbody tr th:only-of-type {\n",
              "        vertical-align: middle;\n",
              "    }\n",
              "\n",
              "    .dataframe tbody tr th {\n",
              "        vertical-align: top;\n",
              "    }\n",
              "\n",
              "    .dataframe thead th {\n",
              "        text-align: right;\n",
              "    }\n",
              "</style>\n",
              "<table border=\"1\" class=\"dataframe\">\n",
              "  <thead>\n",
              "    <tr style=\"text-align: right;\">\n",
              "      <th></th>\n",
              "      <th>text</th>\n",
              "      <th>spam</th>\n",
              "    </tr>\n",
              "  </thead>\n",
              "  <tbody>\n",
              "    <tr>\n",
              "      <th>0</th>\n",
              "      <td>Subject: naturally irresistible your corporate...</td>\n",
              "      <td>1</td>\n",
              "    </tr>\n",
              "    <tr>\n",
              "      <th>1</th>\n",
              "      <td>Subject: the stock trading gunslinger  fanny i...</td>\n",
              "      <td>1</td>\n",
              "    </tr>\n",
              "    <tr>\n",
              "      <th>2</th>\n",
              "      <td>Subject: the stock trading gunslinger  fanny i...</td>\n",
              "      <td>1</td>\n",
              "    </tr>\n",
              "    <tr>\n",
              "      <th>3</th>\n",
              "      <td>Subject: unbelievable new homes made easy  im ...</td>\n",
              "      <td>1</td>\n",
              "    </tr>\n",
              "    <tr>\n",
              "      <th>4</th>\n",
              "      <td>Subject: the stock trading gunslinger  fanny i...</td>\n",
              "      <td>1</td>\n",
              "    </tr>\n",
              "    <tr>\n",
              "      <th>...</th>\n",
              "      <td>...</td>\n",
              "      <td>...</td>\n",
              "    </tr>\n",
              "    <tr>\n",
              "      <th>5725</th>\n",
              "      <td>Subject: re : research and development charges...</td>\n",
              "      <td>0</td>\n",
              "    </tr>\n",
              "    <tr>\n",
              "      <th>5726</th>\n",
              "      <td>Subject: re : receipts from visit  jim ,  than...</td>\n",
              "      <td>0</td>\n",
              "    </tr>\n",
              "    <tr>\n",
              "      <th>5727</th>\n",
              "      <td>Subject: re : enron case study update  wow ! a...</td>\n",
              "      <td>0</td>\n",
              "    </tr>\n",
              "    <tr>\n",
              "      <th>5728</th>\n",
              "      <td>Subject: re : interest  david ,  please , call...</td>\n",
              "      <td>0</td>\n",
              "    </tr>\n",
              "    <tr>\n",
              "      <th>5729</th>\n",
              "      <td>Subject: news : aurora 5 . 2 update  aurora ve...</td>\n",
              "      <td>0</td>\n",
              "    </tr>\n",
              "  </tbody>\n",
              "</table>\n",
              "<p>5730 rows × 2 columns</p>\n",
              "</div>"
            ],
            "text/plain": [
              "                                                   text  spam\n",
              "0     Subject: naturally irresistible your corporate...     1\n",
              "1     Subject: the stock trading gunslinger  fanny i...     1\n",
              "2     Subject: the stock trading gunslinger  fanny i...     1\n",
              "3     Subject: unbelievable new homes made easy  im ...     1\n",
              "4     Subject: the stock trading gunslinger  fanny i...     1\n",
              "...                                                 ...   ...\n",
              "5725  Subject: re : research and development charges...     0\n",
              "5726  Subject: re : receipts from visit  jim ,  than...     0\n",
              "5727  Subject: re : enron case study update  wow ! a...     0\n",
              "5728  Subject: re : interest  david ,  please , call...     0\n",
              "5729  Subject: news : aurora 5 . 2 update  aurora ve...     0\n",
              "\n",
              "[5730 rows x 2 columns]"
            ]
          },
          "metadata": {},
          "execution_count": 11
        }
      ]
    },
    {
      "cell_type": "code",
      "metadata": {
        "id": "2InSUi_jjHU3",
        "colab": {
          "base_uri": "https://localhost:8080/"
        },
        "outputId": "0cef1b09-9813-406a-dc9e-c3a8bc0ab08c"
      },
      "source": [
        "dataset.columns #Index(['text', 'spam'], dtype='object')"
      ],
      "execution_count": 12,
      "outputs": [
        {
          "output_type": "execute_result",
          "data": {
            "text/plain": [
              "Index(['text', 'spam'], dtype='object')"
            ]
          },
          "metadata": {},
          "execution_count": 12
        }
      ]
    },
    {
      "cell_type": "code",
      "metadata": {
        "id": "3Aja2c-JjHU4",
        "colab": {
          "base_uri": "https://localhost:8080/",
          "height": 357
        },
        "outputId": "22bdab84-7a31-4012-9265-7175dbd3c7f6"
      },
      "source": [
        "dataset.tail(10)"
      ],
      "execution_count": 13,
      "outputs": [
        {
          "output_type": "execute_result",
          "data": {
            "text/html": [
              "<div>\n",
              "<style scoped>\n",
              "    .dataframe tbody tr th:only-of-type {\n",
              "        vertical-align: middle;\n",
              "    }\n",
              "\n",
              "    .dataframe tbody tr th {\n",
              "        vertical-align: top;\n",
              "    }\n",
              "\n",
              "    .dataframe thead th {\n",
              "        text-align: right;\n",
              "    }\n",
              "</style>\n",
              "<table border=\"1\" class=\"dataframe\">\n",
              "  <thead>\n",
              "    <tr style=\"text-align: right;\">\n",
              "      <th></th>\n",
              "      <th>text</th>\n",
              "      <th>spam</th>\n",
              "    </tr>\n",
              "  </thead>\n",
              "  <tbody>\n",
              "    <tr>\n",
              "      <th>5720</th>\n",
              "      <td>Subject: altos na gas model  kim , i know you ...</td>\n",
              "      <td>0</td>\n",
              "    </tr>\n",
              "    <tr>\n",
              "      <th>5721</th>\n",
              "      <td>Subject: power market research  i came across ...</td>\n",
              "      <td>0</td>\n",
              "    </tr>\n",
              "    <tr>\n",
              "      <th>5722</th>\n",
              "      <td>Subject: re : visit to houston  fyi  - - - - -...</td>\n",
              "      <td>0</td>\n",
              "    </tr>\n",
              "    <tr>\n",
              "      <th>5723</th>\n",
              "      <td>Subject: ees risk management presentations for...</td>\n",
              "      <td>0</td>\n",
              "    </tr>\n",
              "    <tr>\n",
              "      <th>5724</th>\n",
              "      <td>Subject: re : vacation  vince :  i just found ...</td>\n",
              "      <td>0</td>\n",
              "    </tr>\n",
              "    <tr>\n",
              "      <th>5725</th>\n",
              "      <td>Subject: re : research and development charges...</td>\n",
              "      <td>0</td>\n",
              "    </tr>\n",
              "    <tr>\n",
              "      <th>5726</th>\n",
              "      <td>Subject: re : receipts from visit  jim ,  than...</td>\n",
              "      <td>0</td>\n",
              "    </tr>\n",
              "    <tr>\n",
              "      <th>5727</th>\n",
              "      <td>Subject: re : enron case study update  wow ! a...</td>\n",
              "      <td>0</td>\n",
              "    </tr>\n",
              "    <tr>\n",
              "      <th>5728</th>\n",
              "      <td>Subject: re : interest  david ,  please , call...</td>\n",
              "      <td>0</td>\n",
              "    </tr>\n",
              "    <tr>\n",
              "      <th>5729</th>\n",
              "      <td>Subject: news : aurora 5 . 2 update  aurora ve...</td>\n",
              "      <td>0</td>\n",
              "    </tr>\n",
              "  </tbody>\n",
              "</table>\n",
              "</div>"
            ],
            "text/plain": [
              "                                                   text  spam\n",
              "5720  Subject: altos na gas model  kim , i know you ...     0\n",
              "5721  Subject: power market research  i came across ...     0\n",
              "5722  Subject: re : visit to houston  fyi  - - - - -...     0\n",
              "5723  Subject: ees risk management presentations for...     0\n",
              "5724  Subject: re : vacation  vince :  i just found ...     0\n",
              "5725  Subject: re : research and development charges...     0\n",
              "5726  Subject: re : receipts from visit  jim ,  than...     0\n",
              "5727  Subject: re : enron case study update  wow ! a...     0\n",
              "5728  Subject: re : interest  david ,  please , call...     0\n",
              "5729  Subject: news : aurora 5 . 2 update  aurora ve...     0"
            ]
          },
          "metadata": {},
          "execution_count": 13
        }
      ]
    },
    {
      "cell_type": "code",
      "metadata": {
        "id": "Dh6IX_v9jHU4",
        "colab": {
          "base_uri": "https://localhost:8080/"
        },
        "outputId": "397a535f-d487-46e5-ef0a-0966a59115ed"
      },
      "source": [
        "dataset.shape"
      ],
      "execution_count": 14,
      "outputs": [
        {
          "output_type": "execute_result",
          "data": {
            "text/plain": [
              "(5730, 2)"
            ]
          },
          "metadata": {},
          "execution_count": 14
        }
      ]
    },
    {
      "cell_type": "code",
      "metadata": {
        "id": "Xze4GS0ojHU5"
      },
      "source": [
        "# dataset.drop_duplicates(inplace = True)\n",
        "dataset = dataset.drop_duplicates()"
      ],
      "execution_count": 15,
      "outputs": []
    },
    {
      "cell_type": "code",
      "metadata": {
        "id": "j5rqbnWjjHU5",
        "colab": {
          "base_uri": "https://localhost:8080/"
        },
        "outputId": "062be7d0-6f4b-49c1-8e30-06608d9a4e04"
      },
      "source": [
        "dataset.isnull().sum()"
      ],
      "execution_count": 16,
      "outputs": [
        {
          "output_type": "execute_result",
          "data": {
            "text/plain": [
              "text    0\n",
              "spam    0\n",
              "dtype: int64"
            ]
          },
          "metadata": {},
          "execution_count": 16
        }
      ]
    },
    {
      "cell_type": "code",
      "metadata": {
        "id": "xPrEoeJ4k_l3"
      },
      "source": [
        "dataset = dataset.dropna()"
      ],
      "execution_count": 17,
      "outputs": []
    },
    {
      "cell_type": "code",
      "metadata": {
        "id": "JuM7ztM6jHU6"
      },
      "source": [
        "# #Checking for duplicates and removing them\n",
        "# dataset = dataset.drop_duplicates()\n",
        "# #Checking for any null entries in the dataset\n",
        "# print (pd.DataFrame(dataset.isnull().sum()))"
      ],
      "execution_count": 18,
      "outputs": []
    },
    {
      "cell_type": "code",
      "metadata": {
        "id": "reERzw-njHU7",
        "colab": {
          "base_uri": "https://localhost:8080/",
          "height": 417
        },
        "outputId": "ca7fe0bc-b701-4a89-ff17-96477bde7343"
      },
      "source": [
        "# dataset.shape  #(5728, 2)\n",
        "dataset"
      ],
      "execution_count": 19,
      "outputs": [
        {
          "output_type": "execute_result",
          "data": {
            "text/html": [
              "<div>\n",
              "<style scoped>\n",
              "    .dataframe tbody tr th:only-of-type {\n",
              "        vertical-align: middle;\n",
              "    }\n",
              "\n",
              "    .dataframe tbody tr th {\n",
              "        vertical-align: top;\n",
              "    }\n",
              "\n",
              "    .dataframe thead th {\n",
              "        text-align: right;\n",
              "    }\n",
              "</style>\n",
              "<table border=\"1\" class=\"dataframe\">\n",
              "  <thead>\n",
              "    <tr style=\"text-align: right;\">\n",
              "      <th></th>\n",
              "      <th>text</th>\n",
              "      <th>spam</th>\n",
              "    </tr>\n",
              "  </thead>\n",
              "  <tbody>\n",
              "    <tr>\n",
              "      <th>0</th>\n",
              "      <td>Subject: naturally irresistible your corporate...</td>\n",
              "      <td>1</td>\n",
              "    </tr>\n",
              "    <tr>\n",
              "      <th>1</th>\n",
              "      <td>Subject: the stock trading gunslinger  fanny i...</td>\n",
              "      <td>1</td>\n",
              "    </tr>\n",
              "    <tr>\n",
              "      <th>3</th>\n",
              "      <td>Subject: unbelievable new homes made easy  im ...</td>\n",
              "      <td>1</td>\n",
              "    </tr>\n",
              "    <tr>\n",
              "      <th>5</th>\n",
              "      <td>Subject: 4 color printing special  request add...</td>\n",
              "      <td>1</td>\n",
              "    </tr>\n",
              "    <tr>\n",
              "      <th>6</th>\n",
              "      <td>Subject: do not have money , get software cds ...</td>\n",
              "      <td>1</td>\n",
              "    </tr>\n",
              "    <tr>\n",
              "      <th>...</th>\n",
              "      <td>...</td>\n",
              "      <td>...</td>\n",
              "    </tr>\n",
              "    <tr>\n",
              "      <th>5725</th>\n",
              "      <td>Subject: re : research and development charges...</td>\n",
              "      <td>0</td>\n",
              "    </tr>\n",
              "    <tr>\n",
              "      <th>5726</th>\n",
              "      <td>Subject: re : receipts from visit  jim ,  than...</td>\n",
              "      <td>0</td>\n",
              "    </tr>\n",
              "    <tr>\n",
              "      <th>5727</th>\n",
              "      <td>Subject: re : enron case study update  wow ! a...</td>\n",
              "      <td>0</td>\n",
              "    </tr>\n",
              "    <tr>\n",
              "      <th>5728</th>\n",
              "      <td>Subject: re : interest  david ,  please , call...</td>\n",
              "      <td>0</td>\n",
              "    </tr>\n",
              "    <tr>\n",
              "      <th>5729</th>\n",
              "      <td>Subject: news : aurora 5 . 2 update  aurora ve...</td>\n",
              "      <td>0</td>\n",
              "    </tr>\n",
              "  </tbody>\n",
              "</table>\n",
              "<p>5695 rows × 2 columns</p>\n",
              "</div>"
            ],
            "text/plain": [
              "                                                   text  spam\n",
              "0     Subject: naturally irresistible your corporate...     1\n",
              "1     Subject: the stock trading gunslinger  fanny i...     1\n",
              "3     Subject: unbelievable new homes made easy  im ...     1\n",
              "5     Subject: 4 color printing special  request add...     1\n",
              "6     Subject: do not have money , get software cds ...     1\n",
              "...                                                 ...   ...\n",
              "5725  Subject: re : research and development charges...     0\n",
              "5726  Subject: re : receipts from visit  jim ,  than...     0\n",
              "5727  Subject: re : enron case study update  wow ! a...     0\n",
              "5728  Subject: re : interest  david ,  please , call...     0\n",
              "5729  Subject: news : aurora 5 . 2 update  aurora ve...     0\n",
              "\n",
              "[5695 rows x 2 columns]"
            ]
          },
          "metadata": {},
          "execution_count": 19
        }
      ]
    },
    {
      "cell_type": "code",
      "metadata": {
        "id": "WGTSD0JnjHU8",
        "colab": {
          "base_uri": "https://localhost:8080/"
        },
        "outputId": "69a7a6ef-686f-4289-f13d-00d4f8cfaf59"
      },
      "source": [
        "#Using Natural Language Processing to cleaning the text to make one corpus\n",
        "# Cleaning the texts\n",
        "import re\n",
        "import nltk\n",
        "nltk.download('stopwords')\n",
        "from nltk.corpus import stopwords\n",
        "from nltk.stem.porter import PorterStemmer"
      ],
      "execution_count": 20,
      "outputs": [
        {
          "output_type": "stream",
          "text": [
            "[nltk_data] Downloading package stopwords to /root/nltk_data...\n",
            "[nltk_data]   Unzipping corpora/stopwords.zip.\n"
          ],
          "name": "stdout"
        }
      ]
    },
    {
      "cell_type": "code",
      "metadata": {
        "id": "4UNkZC8ujHU9",
        "colab": {
          "base_uri": "https://localhost:8080/",
          "height": 35
        },
        "outputId": "aabc79ee-9595-46a6-fac8-c610f49a3a40"
      },
      "source": [
        "ps = PorterStemmer()\n",
        "ps.stem('played')\n"
      ],
      "execution_count": 21,
      "outputs": [
        {
          "output_type": "execute_result",
          "data": {
            "application/vnd.google.colaboratory.intrinsic+json": {
              "type": "string"
            },
            "text/plain": [
              "'play'"
            ]
          },
          "metadata": {},
          "execution_count": 21
        }
      ]
    },
    {
      "cell_type": "code",
      "metadata": {
        "id": "rcIZuTDQjHU-",
        "scrolled": true,
        "colab": {
          "base_uri": "https://localhost:8080/"
        },
        "outputId": "db48f6a4-618a-4fba-c19b-6e303d46ed33"
      },
      "source": [
        "dataset['text']"
      ],
      "execution_count": 22,
      "outputs": [
        {
          "output_type": "execute_result",
          "data": {
            "text/plain": [
              "0       Subject: naturally irresistible your corporate...\n",
              "1       Subject: the stock trading gunslinger  fanny i...\n",
              "3       Subject: unbelievable new homes made easy  im ...\n",
              "5       Subject: 4 color printing special  request add...\n",
              "6       Subject: do not have money , get software cds ...\n",
              "                              ...                        \n",
              "5725    Subject: re : research and development charges...\n",
              "5726    Subject: re : receipts from visit  jim ,  than...\n",
              "5727    Subject: re : enron case study update  wow ! a...\n",
              "5728    Subject: re : interest  david ,  please , call...\n",
              "5729    Subject: news : aurora 5 . 2 update  aurora ve...\n",
              "Name: text, Length: 5695, dtype: object"
            ]
          },
          "metadata": {},
          "execution_count": 22
        }
      ]
    },
    {
      "cell_type": "code",
      "metadata": {
        "id": "yPXD6fKFjHU_"
      },
      "source": [
        "#dataset['text'][0]=dataset['text'][0][9:]\n",
        "dataset['text']=dataset['text'].map(lambda text: text[9:])"
      ],
      "execution_count": 23,
      "outputs": []
    },
    {
      "cell_type": "code",
      "metadata": {
        "id": "ibbWm2aojHVA",
        "colab": {
          "base_uri": "https://localhost:8080/"
        },
        "outputId": "321915b0-c58a-4808-8c42-8f36fcbe1a15"
      },
      "source": [
        "dataset['text']"
      ],
      "execution_count": 24,
      "outputs": [
        {
          "output_type": "execute_result",
          "data": {
            "text/plain": [
              "0       naturally irresistible your corporate identity...\n",
              "1       the stock trading gunslinger  fanny is merrill...\n",
              "3       unbelievable new homes made easy  im wanting t...\n",
              "5       4 color printing special  request additional i...\n",
              "6       do not have money , get software cds from here...\n",
              "                              ...                        \n",
              "5725    re : research and development charges to gpg  ...\n",
              "5726    re : receipts from visit  jim ,  thanks again ...\n",
              "5727    re : enron case study update  wow ! all on the...\n",
              "5728    re : interest  david ,  please , call shirley ...\n",
              "5729    news : aurora 5 . 2 update  aurora version 5 ....\n",
              "Name: text, Length: 5695, dtype: object"
            ]
          },
          "metadata": {},
          "execution_count": 24
        }
      ]
    },
    {
      "cell_type": "code",
      "metadata": {
        "id": "-kghXUhujHVA"
      },
      "source": [
        "#Every mail starts with 'Subject :' will remove this from each text \n",
        "dataset['text'] = dataset['text'].map(lambda text: text[9:])\n",
        "dataset['text'] = dataset['text'].map(lambda text:re.sub('[^a-zA-Z0-9]+', ' ',text)).apply(lambda x: (x.lower()).split())"
      ],
      "execution_count": 25,
      "outputs": []
    },
    {
      "cell_type": "code",
      "metadata": {
        "id": "TrUJRkfijHVA",
        "colab": {
          "base_uri": "https://localhost:8080/"
        },
        "outputId": "43c07359-3eba-4209-bbe8-e62a0849faba"
      },
      "source": [
        "dataset['text']"
      ],
      "execution_count": 26,
      "outputs": [
        {
          "output_type": "execute_result",
          "data": {
            "text/plain": [
              "0       [irresistible, your, corporate, identity, lt, ...\n",
              "1       [trading, gunslinger, fanny, is, merrill, but,...\n",
              "3       [ble, new, homes, made, easy, im, wanting, to,...\n",
              "5       [rinting, special, request, additional, inform...\n",
              "6       [ve, money, get, software, cds, from, here, so...\n",
              "                              ...                        \n",
              "5725    [arch, and, development, charges, to, gpg, her...\n",
              "5726    [ipts, from, visit, jim, thanks, again, for, t...\n",
              "5727    [n, case, study, update, wow, all, on, the, sa...\n",
              "5728    [rest, david, please, call, shirley, crenshaw,...\n",
              "5729    [rora, 5, 2, update, aurora, version, 5, 2, th...\n",
              "Name: text, Length: 5695, dtype: object"
            ]
          },
          "metadata": {},
          "execution_count": 26
        }
      ]
    },
    {
      "cell_type": "code",
      "metadata": {
        "id": "NKv9KI1ZjHVA"
      },
      "source": [
        "ps = PorterStemmer()\n",
        "corpus=dataset['text'].apply(lambda text_list:' '.join(list(map(lambda word:ps.stem(word),(list(filter(lambda text:text not in set(stopwords.words('english')),text_list)))))))"
      ],
      "execution_count": 27,
      "outputs": []
    },
    {
      "cell_type": "code",
      "metadata": {
        "colab": {
          "base_uri": "https://localhost:8080/"
        },
        "id": "mtov_GA7jHVA",
        "outputId": "adc36198-bf78-408b-a2bd-5eb14f600cf4"
      },
      "source": [
        "corpus"
      ],
      "execution_count": 28,
      "outputs": [
        {
          "output_type": "execute_result",
          "data": {
            "text/plain": [
              "0       irresist corpor ident lt realli hard recollect...\n",
              "1       trade gunsling fanni merril muzo colza attaind...\n",
              "3       ble new home made easi im want show homeown pr...\n",
              "5       rint special request addit inform click click ...\n",
              "6       money get softwar cd softwar compat great grow...\n",
              "                              ...                        \n",
              "5725    arch develop charg gpg forward shirley crensha...\n",
              "5726    ipt visit jim thank invit visit lsu shirley fe...\n",
              "5727    n case studi updat wow day super thank much vi...\n",
              "5728    rest david pleas call shirley crenshaw assist ...\n",
              "5729    rora 5 2 updat aurora version 5 2 fastest mode...\n",
              "Name: text, Length: 5695, dtype: object"
            ]
          },
          "metadata": {},
          "execution_count": 28
        }
      ]
    },
    {
      "cell_type": "code",
      "metadata": {
        "colab": {
          "base_uri": "https://localhost:8080/"
        },
        "id": "jI2KD-3mjHVA",
        "outputId": "e784f9c9-e57c-490b-a996-06c1dbccf9e4"
      },
      "source": [
        "len(corpus.values)"
      ],
      "execution_count": 29,
      "outputs": [
        {
          "output_type": "execute_result",
          "data": {
            "text/plain": [
              "5695"
            ]
          },
          "metadata": {},
          "execution_count": 29
        }
      ]
    },
    {
      "cell_type": "code",
      "metadata": {
        "id": "McmjAL_CjHVB"
      },
      "source": [
        "# Creating the Bag of Words model\n",
        "from sklearn.feature_extraction.text import CountVectorizer\n",
        "cv = CountVectorizer()\n",
        "X = cv.fit_transform(corpus.values).toarray()\n",
        "y = dataset.iloc[:, 1].values"
      ],
      "execution_count": 30,
      "outputs": []
    },
    {
      "cell_type": "code",
      "metadata": {
        "colab": {
          "base_uri": "https://localhost:8080/"
        },
        "id": "x2b0SruAjHVB",
        "outputId": "ba5adee9-aa5a-4185-cf9c-545754a1ac4e"
      },
      "source": [
        "y"
      ],
      "execution_count": 31,
      "outputs": [
        {
          "output_type": "execute_result",
          "data": {
            "text/plain": [
              "array([1, 1, 1, ..., 0, 0, 0])"
            ]
          },
          "metadata": {},
          "execution_count": 31
        }
      ]
    },
    {
      "cell_type": "code",
      "metadata": {
        "colab": {
          "base_uri": "https://localhost:8080/"
        },
        "id": "Ga-28fUsjHVB",
        "outputId": "c9992e5d-1eed-4ff0-d675-a5f6c6c784eb"
      },
      "source": [
        "len(cv.get_feature_names())"
      ],
      "execution_count": 32,
      "outputs": [
        {
          "output_type": "execute_result",
          "data": {
            "text/plain": [
              "29697"
            ]
          },
          "metadata": {},
          "execution_count": 32
        }
      ]
    },
    {
      "cell_type": "code",
      "metadata": {
        "id": "XZVv3hjzjHVB"
      },
      "source": [
        "# Splitting the dataset into the Training set and Test set\n",
        "from sklearn.model_selection import train_test_split\n",
        "X_train, X_test, y_train, y_test = train_test_split(X, y, test_size = 0.20)"
      ],
      "execution_count": 33,
      "outputs": []
    },
    {
      "cell_type": "code",
      "metadata": {
        "colab": {
          "base_uri": "https://localhost:8080/"
        },
        "id": "RH4Zqg0jjHVB",
        "outputId": "1ad3f757-0932-40bd-ed15-12cebe6a0edf"
      },
      "source": [
        "X.shape"
      ],
      "execution_count": 34,
      "outputs": [
        {
          "output_type": "execute_result",
          "data": {
            "text/plain": [
              "(5695, 29697)"
            ]
          },
          "metadata": {},
          "execution_count": 34
        }
      ]
    },
    {
      "cell_type": "code",
      "metadata": {
        "colab": {
          "base_uri": "https://localhost:8080/"
        },
        "id": "MjAQcDfCjHVB",
        "outputId": "68c61414-eb4c-4315-f5b7-e458f007d9d4"
      },
      "source": [
        "X_train.shape"
      ],
      "execution_count": 35,
      "outputs": [
        {
          "output_type": "execute_result",
          "data": {
            "text/plain": [
              "(4556, 29697)"
            ]
          },
          "metadata": {},
          "execution_count": 35
        }
      ]
    },
    {
      "cell_type": "code",
      "metadata": {
        "colab": {
          "base_uri": "https://localhost:8080/"
        },
        "id": "orXyRfLKjHVC",
        "outputId": "6f0bf805-461a-4baf-c180-d5f7eb161d0a"
      },
      "source": [
        "X_test.shape"
      ],
      "execution_count": 36,
      "outputs": [
        {
          "output_type": "execute_result",
          "data": {
            "text/plain": [
              "(1139, 29697)"
            ]
          },
          "metadata": {},
          "execution_count": 36
        }
      ]
    },
    {
      "cell_type": "code",
      "metadata": {
        "colab": {
          "base_uri": "https://localhost:8080/"
        },
        "id": "G1Jj8tYnjHVC",
        "outputId": "685905b1-aec5-4668-8390-34f7e7311d79"
      },
      "source": [
        "y_train.shape"
      ],
      "execution_count": 37,
      "outputs": [
        {
          "output_type": "execute_result",
          "data": {
            "text/plain": [
              "(4556,)"
            ]
          },
          "metadata": {},
          "execution_count": 37
        }
      ]
    },
    {
      "cell_type": "code",
      "metadata": {
        "colab": {
          "base_uri": "https://localhost:8080/"
        },
        "id": "BkHQxZbUjHVC",
        "outputId": "a397f796-c9e4-4d33-c171-899e8254c1af"
      },
      "source": [
        "y_test.shape"
      ],
      "execution_count": 38,
      "outputs": [
        {
          "output_type": "execute_result",
          "data": {
            "text/plain": [
              "(1139,)"
            ]
          },
          "metadata": {},
          "execution_count": 38
        }
      ]
    },
    {
      "cell_type": "code",
      "metadata": {
        "colab": {
          "base_uri": "https://localhost:8080/"
        },
        "id": "vAKxtibFjHVC",
        "outputId": "d79a6959-db01-4271-c2a7-58a60c6b4221"
      },
      "source": [
        "# Fitting Naive Bayes classifier to the Training set\n",
        "from sklearn.naive_bayes import MultinomialNB\n",
        "classifier = MultinomialNB(alpha=1.0, class_prior=None, fit_prior=True)\n",
        "classifier.fit(X_train , y_train)"
      ],
      "execution_count": 39,
      "outputs": [
        {
          "output_type": "execute_result",
          "data": {
            "text/plain": [
              "MultinomialNB(alpha=1.0, class_prior=None, fit_prior=True)"
            ]
          },
          "metadata": {},
          "execution_count": 39
        }
      ]
    },
    {
      "cell_type": "code",
      "metadata": {
        "id": "LIBtHBmsjHVC"
      },
      "source": [
        "# Predicting the Test set results\n",
        "y_pred = classifier.predict(X_test)"
      ],
      "execution_count": 40,
      "outputs": []
    },
    {
      "cell_type": "code",
      "metadata": {
        "colab": {
          "base_uri": "https://localhost:8080/"
        },
        "id": "Q8zcnwssjHVC",
        "outputId": "229362c2-b1b6-47f9-a480-2643e13a9c3e"
      },
      "source": [
        "y_test"
      ],
      "execution_count": 41,
      "outputs": [
        {
          "output_type": "execute_result",
          "data": {
            "text/plain": [
              "array([1, 1, 0, ..., 0, 0, 0])"
            ]
          },
          "metadata": {},
          "execution_count": 41
        }
      ]
    },
    {
      "cell_type": "code",
      "metadata": {
        "id": "YRR41E-8jHVC"
      },
      "source": [
        "# Fitting Decision Tree classifier to the Training set\n",
        "from sklearn.tree import DecisionTreeClassifier\n",
        "tree = DecisionTreeClassifier()\n",
        "tree.fit(X_train , y_train)\n",
        "tree_y_pred = tree.predict(X_test)"
      ],
      "execution_count": 42,
      "outputs": []
    },
    {
      "cell_type": "code",
      "metadata": {
        "id": "IpCGRnjVjHVD"
      },
      "source": [
        "# Making the Confusion Matrix\n",
        "from sklearn.metrics import confusion_matrix\n",
        "cm = confusion_matrix(y_test, y_pred)"
      ],
      "execution_count": 43,
      "outputs": []
    },
    {
      "cell_type": "code",
      "metadata": {
        "colab": {
          "base_uri": "https://localhost:8080/",
          "height": 282
        },
        "id": "LAqFxqGCjHVD",
        "outputId": "2a3dcfa0-ea40-4e4f-aee9-094fea37209d"
      },
      "source": [
        "import seaborn as sn\n",
        "sn.heatmap(cm,annot=True)"
      ],
      "execution_count": 54,
      "outputs": [
        {
          "output_type": "execute_result",
          "data": {
            "text/plain": [
              "<matplotlib.axes._subplots.AxesSubplot at 0x7fc0fa5508d0>"
            ]
          },
          "metadata": {},
          "execution_count": 54
        },
        {
          "output_type": "display_data",
          "data": {
            "image/png": "[encoded data removed]",
            "text/plain": [
              "<Figure size 432x288 with 2 Axes>"
            ]
          },
          "metadata": {
            "needs_background": "light"
          }
        }
      ]
    },
    {
      "cell_type": "code",
      "metadata": {
        "colab": {
          "base_uri": "https://localhost:8080/"
        },
        "id": "YYrIUPizjHVD",
        "outputId": "15f1bc60-ca2c-47e7-a0ac-2b29bd785409"
      },
      "source": [
        "confusion_matrix(y_test, tree_y_pred)"
      ],
      "execution_count": 44,
      "outputs": [
        {
          "output_type": "execute_result",
          "data": {
            "text/plain": [
              "array([[847,  20],\n",
              "       [ 28, 244]])"
            ]
          },
          "metadata": {},
          "execution_count": 44
        }
      ]
    },
    {
      "cell_type": "code",
      "metadata": {
        "colab": {
          "base_uri": "https://localhost:8080/"
        },
        "id": "_-T_FGUzjHVD",
        "outputId": "f843968d-5e96-4c9b-ae20-159423425ff8"
      },
      "source": [
        "(854+245)/1139"
      ],
      "execution_count": 45,
      "outputs": [
        {
          "output_type": "execute_result",
          "data": {
            "text/plain": [
              "0.9648814749780509"
            ]
          },
          "metadata": {},
          "execution_count": 45
        }
      ]
    },
    {
      "cell_type": "code",
      "metadata": {
        "colab": {
          "base_uri": "https://localhost:8080/"
        },
        "id": "9Qfd9ZjbjHVD",
        "outputId": "7af6730c-d2fa-4252-a66d-9a7b3390a2dc"
      },
      "source": [
        "(868+259)/1139"
      ],
      "execution_count": 46,
      "outputs": [
        {
          "output_type": "execute_result",
          "data": {
            "text/plain": [
              "0.9894644424934153"
            ]
          },
          "metadata": {},
          "execution_count": 46
        }
      ]
    },
    {
      "cell_type": "code",
      "metadata": {
        "colab": {
          "base_uri": "https://localhost:8080/"
        },
        "id": "Lg33gjY_jHVD",
        "outputId": "f2e79f5e-c793-4358-abd9-7dc2b5e9a4b9"
      },
      "source": [
        "y_test.shape"
      ],
      "execution_count": 47,
      "outputs": [
        {
          "output_type": "execute_result",
          "data": {
            "text/plain": [
              "(1139,)"
            ]
          },
          "metadata": {},
          "execution_count": 47
        }
      ]
    },
    {
      "cell_type": "code",
      "metadata": {
        "colab": {
          "base_uri": "https://localhost:8080/"
        },
        "id": "yinHapKXjHVD",
        "outputId": "5b1ca1ad-5266-4f87-f997-bcbeeb52b331"
      },
      "source": [
        "y_pred.shape"
      ],
      "execution_count": 48,
      "outputs": [
        {
          "output_type": "execute_result",
          "data": {
            "text/plain": [
              "(1139,)"
            ]
          },
          "metadata": {},
          "execution_count": 48
        }
      ]
    },
    {
      "cell_type": "code",
      "metadata": {
        "id": "I9KPhT23jHVD"
      },
      "source": [
        "#saving the model\n",
        "import pickle\n",
        "f = open('classifier.pickle', 'wb')\n",
        "pickle.dump(classifier, f)\n",
        "f.close()"
      ],
      "execution_count": 49,
      "outputs": []
    },
    {
      "cell_type": "code",
      "metadata": {
        "id": "E_obJ01UjHVD"
      },
      "source": [
        "#loading the model\n",
        "import pickle\n",
        "f = open('classifier.pickle', 'rb')\n",
        "cf = pickle.load(f)\n",
        "f.close()"
      ],
      "execution_count": 50,
      "outputs": []
    },
    {
      "cell_type": "code",
      "metadata": {
        "colab": {
          "base_uri": "https://localhost:8080/"
        },
        "id": "kKtdnleWjHVD",
        "outputId": "25d8f8ed-fab9-4265-85c5-510b7d786290"
      },
      "source": [
        "cf.predict(X_test)"
      ],
      "execution_count": 51,
      "outputs": [
        {
          "output_type": "execute_result",
          "data": {
            "text/plain": [
              "array([1, 1, 0, ..., 0, 0, 0])"
            ]
          },
          "metadata": {},
          "execution_count": 51
        }
      ]
    },
    {
      "cell_type": "code",
      "metadata": {
        "id": "CLC7s2EVjHVE"
      },
      "source": [
        "#saving the vectorization\n",
        "import pickle\n",
        "vec_file = 'vectorizer.pickle'\n",
        "pickle.dump(cv, open(vec_file, 'wb'))\n",
        "f.close()"
      ],
      "execution_count": 52,
      "outputs": []
    },
    {
      "cell_type": "code",
      "metadata": {
        "id": "869YVwWMjHVE"
      },
      "source": [
        "#loading the vectorization\n",
        "import pickle\n",
        "e = open('vectorizer.pickle', 'rb')\n",
        "vc = pickle.load(e)\n",
        "e.close()"
      ],
      "execution_count": 53,
      "outputs": []
    },
    {
      "cell_type": "code",
      "metadata": {
        "id": "T4jA-9_3t3oI"
      },
      "source": [
        ""
      ],
      "execution_count": null,
      "outputs": []
    }
  ]
}